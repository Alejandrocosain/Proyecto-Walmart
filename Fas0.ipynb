{
 "cells": [
  {
   "cell_type": "code",
   "execution_count": 1,
   "metadata": {},
   "outputs": [],
   "source": [
    "import pandas as pd\n",
    "import matplotlib.pyplot as plt\n",
    "import numpy as np\n",
    "import math\n",
    "import scipy.stats as vale\n",
    "import seaborn as sns\n",
    "from sklearn import linear_model\n",
    "from statsmodels.tsa.holtwinters import ExponentialSmoothing\n",
    "import statsmodels as stats\n",
    "\n"
   ]
  },
  {
   "cell_type": "code",
   "execution_count": 2,
   "metadata": {},
   "outputs": [],
   "source": [
    "calendario= pd.read_csv(\"calendar.csv\")\n",
    "evaluacion=pd.read_csv(\"sales_train_evaluation.csv\")\n",
    "validacion=pd.read_csv(\"sales_train_validation.csv\")\n",
    "submision=pd.read_csv(\"sample_submission.csv\")\n",
    "precio_venta=pd.read_csv(\"sell_prices.csv\")"
   ]
  },
  {
   "cell_type": "code",
   "execution_count": 3,
   "metadata": {},
   "outputs": [
    {
     "name": "stdout",
     "output_type": "stream",
     "text": [
      "                                  id        item_id    dept_id   cat_id  \\\n",
      "0      HOBBIES_1_001_CA_1_validation  HOBBIES_1_001  HOBBIES_1  HOBBIES   \n",
      "1      HOBBIES_1_002_CA_1_validation  HOBBIES_1_002  HOBBIES_1  HOBBIES   \n",
      "2      HOBBIES_1_003_CA_1_validation  HOBBIES_1_003  HOBBIES_1  HOBBIES   \n",
      "3      HOBBIES_1_004_CA_1_validation  HOBBIES_1_004  HOBBIES_1  HOBBIES   \n",
      "4      HOBBIES_1_005_CA_1_validation  HOBBIES_1_005  HOBBIES_1  HOBBIES   \n",
      "...                              ...            ...        ...      ...   \n",
      "30485    FOODS_3_823_WI_3_validation    FOODS_3_823    FOODS_3    FOODS   \n",
      "30486    FOODS_3_824_WI_3_validation    FOODS_3_824    FOODS_3    FOODS   \n",
      "30487    FOODS_3_825_WI_3_validation    FOODS_3_825    FOODS_3    FOODS   \n",
      "30488    FOODS_3_826_WI_3_validation    FOODS_3_826    FOODS_3    FOODS   \n",
      "30489    FOODS_3_827_WI_3_validation    FOODS_3_827    FOODS_3    FOODS   \n",
      "\n",
      "      store_id state_id  d_1  d_2  d_3  d_4  ...  d_1904  d_1905  d_1906  \\\n",
      "0         CA_1       CA    0    0    0    0  ...       1       3       0   \n",
      "1         CA_1       CA    0    0    0    0  ...       0       0       0   \n",
      "2         CA_1       CA    0    0    0    0  ...       2       1       2   \n",
      "3         CA_1       CA    0    0    0    0  ...       1       0       5   \n",
      "4         CA_1       CA    0    0    0    0  ...       2       1       1   \n",
      "...        ...      ...  ...  ...  ...  ...  ...     ...     ...     ...   \n",
      "30485     WI_3       WI    0    0    2    2  ...       2       0       0   \n",
      "30486     WI_3       WI    0    0    0    0  ...       0       0       0   \n",
      "30487     WI_3       WI    0    6    0    2  ...       2       1       0   \n",
      "30488     WI_3       WI    0    0    0    0  ...       0       0       1   \n",
      "30489     WI_3       WI    0    0    0    0  ...       0       0       0   \n",
      "\n",
      "       d_1907  d_1908  d_1909  d_1910  d_1911  d_1912  d_1913  \n",
      "0           1       1       1       3       0       1       1  \n",
      "1           0       0       1       0       0       0       0  \n",
      "2           1       1       1       0       1       1       1  \n",
      "3           4       1       0       1       3       7       2  \n",
      "4           0       1       1       2       2       2       4  \n",
      "...       ...     ...     ...     ...     ...     ...     ...  \n",
      "30485       0       0       0       1       0       0       1  \n",
      "30486       0       0       0       0       0       1       0  \n",
      "30487       2       0       1       0       0       1       0  \n",
      "30488       0       0       1       0       3       1       3  \n",
      "30489       0       0       0       0       0       0       0  \n",
      "\n",
      "[30490 rows x 1919 columns]\n"
     ]
    }
   ],
   "source": [
    "#print(calendario)\n",
    "#gap=pd.DatetimeIndex(calendario[\"date\"])-pd.DatetimeIndex(calendario[\"date\"].shift(1))\n",
    "#print(gap.max())\n",
    "#print(evaluacion)\n",
    "print(validacion)\n",
    "#print(precio_venta)"
   ]
  },
  {
   "cell_type": "code",
   "execution_count": 4,
   "metadata": {},
   "outputs": [
    {
     "name": "stdout",
     "output_type": "stream",
     "text": [
      "                                     id        item_id    dept_id   cat_id  \\\n",
      "0         HOBBIES_1_001_CA_1_validation  HOBBIES_1_001  HOBBIES_1  HOBBIES   \n",
      "1         HOBBIES_1_002_CA_1_validation  HOBBIES_1_002  HOBBIES_1  HOBBIES   \n",
      "2         HOBBIES_1_003_CA_1_validation  HOBBIES_1_003  HOBBIES_1  HOBBIES   \n",
      "3         HOBBIES_1_004_CA_1_validation  HOBBIES_1_004  HOBBIES_1  HOBBIES   \n",
      "4         HOBBIES_1_005_CA_1_validation  HOBBIES_1_005  HOBBIES_1  HOBBIES   \n",
      "...                                 ...            ...        ...      ...   \n",
      "58327365    FOODS_3_823_WI_3_validation    FOODS_3_823    FOODS_3    FOODS   \n",
      "58327366    FOODS_3_824_WI_3_validation    FOODS_3_824    FOODS_3    FOODS   \n",
      "58327367    FOODS_3_825_WI_3_validation    FOODS_3_825    FOODS_3    FOODS   \n",
      "58327368    FOODS_3_826_WI_3_validation    FOODS_3_826    FOODS_3    FOODS   \n",
      "58327369    FOODS_3_827_WI_3_validation    FOODS_3_827    FOODS_3    FOODS   \n",
      "\n",
      "         store_id state_id       d  sales  \n",
      "0            CA_1       CA     d_1      0  \n",
      "1            CA_1       CA     d_1      0  \n",
      "2            CA_1       CA     d_1      0  \n",
      "3            CA_1       CA     d_1      0  \n",
      "4            CA_1       CA     d_1      0  \n",
      "...           ...      ...     ...    ...  \n",
      "58327365     WI_3       WI  d_1913      1  \n",
      "58327366     WI_3       WI  d_1913      0  \n",
      "58327367     WI_3       WI  d_1913      0  \n",
      "58327368     WI_3       WI  d_1913      3  \n",
      "58327369     WI_3       WI  d_1913      0  \n",
      "\n",
      "[58327370 rows x 8 columns]\n"
     ]
    }
   ],
   "source": [
    "ventas_transacc=pd.melt(validacion,id_vars=[\"id\",\"item_id\",\"dept_id\",\"cat_id\",\"store_id\",\"state_id\"], var_name=\"d\",value_name=\"sales\")\n",
    "print(ventas_transacc)"
   ]
  },
  {
   "cell_type": "code",
   "execution_count": 9,
   "metadata": {},
   "outputs": [
    {
     "name": "stdout",
     "output_type": "stream",
     "text": [
      "            item_id    dept_id   cat_id  num_item_id\n",
      "0     HOBBIES_1_001  HOBBIES_1  HOBBIES            1\n",
      "1     HOBBIES_1_002  HOBBIES_1  HOBBIES            2\n",
      "2     HOBBIES_1_003  HOBBIES_1  HOBBIES            3\n",
      "3     HOBBIES_1_004  HOBBIES_1  HOBBIES            4\n",
      "4     HOBBIES_1_005  HOBBIES_1  HOBBIES            5\n",
      "...             ...        ...      ...          ...\n",
      "3044    FOODS_3_823    FOODS_3    FOODS         3045\n",
      "3045    FOODS_3_824    FOODS_3    FOODS         3046\n",
      "3046    FOODS_3_825    FOODS_3    FOODS         3047\n",
      "3047    FOODS_3_826    FOODS_3    FOODS         3048\n",
      "3048    FOODS_3_827    FOODS_3    FOODS         3049\n",
      "\n",
      "[3049 rows x 4 columns]\n"
     ]
    }
   ],
   "source": [
    "cat_articulos=validacion[[\"item_id\",\"dept_id\",\"cat_id\"]].drop_duplicates()\n",
    "cat_articulos[\"num_item_id\"]=[i+1 for i in range(cat_articulos.shape[0])]\n",
    "print(cat_articulos)\n",
    "\n",
    "cat_tiendas=validacion[[\"store_id\",\"state_id\"]].drop_duplicates()\n",
    "cat_tiendas[\"num_store\"]=[i+1 for i in range(cat_tiendas.shape[0])]\n",
    "print(cat_tiendas)\n"
   ]
  },
  {
   "cell_type": "code",
   "execution_count": 6,
   "metadata": {},
   "outputs": [
    {
     "name": "stdout",
     "output_type": "stream",
     "text": [
      "          num_item_id  num_store       d  sales\n",
      "0                   1          1     d_1      0\n",
      "1                   2          1     d_1      0\n",
      "2                   3          1     d_1      0\n",
      "3                   4          1     d_1      0\n",
      "4                   5          1     d_1      0\n",
      "...               ...        ...     ...    ...\n",
      "58327365         3045         10  d_1913      1\n",
      "58327366         3046         10  d_1913      0\n",
      "58327367         3047         10  d_1913      0\n",
      "58327368         3048         10  d_1913      3\n",
      "58327369         3049         10  d_1913      0\n",
      "\n",
      "[58327370 rows x 4 columns]\n"
     ]
    }
   ],
   "source": [
    "validacion_num= validacion.merge(cat_articulos[[\"num_item_id\",\"item_id\"]],on=\"item_id\")\n",
    "validacion_num= validacion_num.merge(cat_tiendas[[\"store_id\",\"num_store\"]],on=\"store_id\")\n",
    "validacion_num=validacion_num.drop([\"id\",\"item_id\",\"dept_id\",\"cat_id\",\"store_id\",\"state_id\"],axis=1)\n",
    "venta_trans_num= pd.melt(validacion_num,id_vars=[\"num_item_id\",\"num_store\"] , var_name= \"d\",value_name=\"sales\")\n",
    "\n",
    "print(venta_trans_num)"
   ]
  },
  {
   "cell_type": "code",
   "execution_count": 7,
   "metadata": {},
   "outputs": [
    {
     "name": "stdout",
     "output_type": "stream",
     "text": [
      "<class 'pandas.core.frame.DataFrame'>\n",
      "RangeIndex: 58327370 entries, 0 to 58327369\n",
      "Data columns (total 8 columns):\n",
      " #   Column    Dtype \n",
      "---  ------    ----- \n",
      " 0   id        object\n",
      " 1   item_id   object\n",
      " 2   dept_id   object\n",
      " 3   cat_id    object\n",
      " 4   store_id  object\n",
      " 5   state_id  object\n",
      " 6   d         object\n",
      " 7   sales     int64 \n",
      "dtypes: int64(1), object(7)\n",
      "memory usage: 3.5+ GB\n",
      "None\n",
      "<class 'pandas.core.frame.DataFrame'>\n",
      "RangeIndex: 58327370 entries, 0 to 58327369\n",
      "Data columns (total 4 columns):\n",
      " #   Column       Dtype \n",
      "---  ------       ----- \n",
      " 0   num_item_id  int64 \n",
      " 1   num_store    int64 \n",
      " 2   d            object\n",
      " 3   sales        int64 \n",
      "dtypes: int64(3), object(1)\n",
      "memory usage: 1.7+ GB\n",
      "None\n"
     ]
    }
   ],
   "source": [
    "print(ventas_transacc.info())\n",
    "print(venta_trans_num.info())"
   ]
  },
  {
   "cell_type": "markdown",
   "metadata": {},
   "source": []
  },
  {
   "cell_type": "code",
   "execution_count": 16,
   "metadata": {},
   "outputs": [],
   "source": [
    "venta_trans_num.to_csv(\"Datos_limpios/ventas_transacc.csv\")\n",
    "cat_tiendas.to_csv(\"Datos_limpios/cat_tiendas.csv\")\n",
    "cat_articulos.to_csv(\"Datos_limpios/cat_articulos.csv\")"
   ]
  },
  {
   "cell_type": "code",
   "execution_count": null,
   "metadata": {},
   "outputs": [],
   "source": []
  }
 ],
 "metadata": {
  "kernelspec": {
   "display_name": "Python 3",
   "language": "python",
   "name": "python3"
  },
  "language_info": {
   "codemirror_mode": {
    "name": "ipython",
    "version": 3
   },
   "file_extension": ".py",
   "mimetype": "text/x-python",
   "name": "python",
   "nbconvert_exporter": "python",
   "pygments_lexer": "ipython3",
   "version": "3.7.6"
  }
 },
 "nbformat": 4,
 "nbformat_minor": 4
}
