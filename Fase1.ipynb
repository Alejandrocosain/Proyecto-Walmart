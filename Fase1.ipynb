{
 "cells": [
  {
   "cell_type": "code",
   "execution_count": null,
   "metadata": {},
   "outputs": [],
   "source": [
    "import pandas as pd\n",
    "import matplotlib.pyplot as plt\n",
    "import numpy as np\n",
    "import math\n",
    "import scipy.stats as vale\n",
    "import seaborn as sns\n",
    "from sklearn import linear_model\n",
    "from statsmodels.tsa.holtwinters import ExponentialSmoothing\n",
    "import statsmodels as stats\n",
    "\n"
   ]
  },
  {
   "cell_type": "code",
   "execution_count": null,
   "metadata": {},
   "outputs": [],
   "source": [
    "calendario= pd.read_csv(\"calendar.csv\")\n",
    "cat_art=pd.read_csv(\"Datos_limpios/cat_articulos.csv\",index_col=0)\n",
    "cat_st=pd.read_csv(\"Datos_limpios/cat_tiendas.csv\",index_col=0)\n",
    "ventas_trans= pd.read_csv(\"Datos_limpios/ventas_transacc.csv\",index_col=0)\n",
    "submision=pd.read_csv(\"sample_submission.csv\")\n",
    "precio_venta=pd.read_csv(\"sell_prices.csv\")\n"
   ]
  },
  {
   "cell_type": "markdown",
   "metadata": {},
   "source": [
    "## Realiza un diagrama de Pareto de las ventas globales por tienda. ¿Existe mucha diferencia en el rendimiento entre tiendas con respecto a la venta?"
   ]
  },
  {
   "cell_type": "code",
   "execution_count": null,
   "metadata": {},
   "outputs": [],
   "source": [
    "#print(calendario)\n",
    "\n",
    "#print(ventas_trans)\n",
    "#print(cat_art)\n",
    "print(cat_st)\n",
    "precio_venta_num= precio_venta.merge(cat_art[[\"item_id\",\"num_item_id\"]],on= \"item_id\")\n",
    "precio_venta_num=precio_venta_num.merge(cat_st[[\"store_id\",\"num_store\"]],on=\"store_id\")\n",
    "precio_cantidad= ventas_trans.merge(calendario[[\"wm_yr_wk\",\"d\"]],on=\"d\")\n",
    "\n",
    "\n",
    "precio_cantidad=precio_cantidad.merge(precio_venta_num[[\"num_store\",\"num_item_id\",\"wm_yr_wk\",\"sell_price\"]],on=[\"num_store\",\"num_item_id\",\"wm_yr_wk\"])\n",
    "#print(precio_cantidad)\n",
    "\n",
    "precio_cantidad[\"Revenue\"]=precio_cantidad[\"sell_price\"]*precio_cantidad[\"sales\"]\n",
    "print(precio_cantidad)"
   ]
  },
  {
   "cell_type": "code",
   "execution_count": null,
   "metadata": {},
   "outputs": [],
   "source": [
    "pareto_ventas= precio_cantidad.groupby([\"num_store\"]).sum().reset_index()\n",
    "pareto_ventas=pareto_ventas.merge(cat_st,on=\"num_store\")\n",
    "pareto_ventas_cantidad=pareto_ventas[[\"store_id\",\"sales\",]].sort_values(\"sales\",ascending=False)\n",
    "pareto_ventas_revenue=pareto_ventas[[\"store_id\",\"Revenue\"]].sort_values(\"Revenue\",ascending= False)\n",
    "total_cantidad=pareto_ventas_cantidad[\"sales\"].sum()\n",
    "total_revenue=pareto_ventas_revenue[\"Revenue\"].sum()\n",
    "pareto_ventas_cantidad[\"%\"]=pareto_ventas_cantidad[\"sales\"]/total_cantidad\n",
    "pareto_ventas_cantidad[\"ac\"]=pareto_ventas_cantidad[\"%\"].cumsum()\n",
    "#print(pareto_ventas)\n",
    "print(pareto_ventas_cantidad)\n",
    "pareto_ventas_cantidad.plot.bar(x=\"store_id\", y= \"%\")\n",
    "\n",
    "print(pareto_ventas)"
   ]
  },
  {
   "cell_type": "code",
   "execution_count": null,
   "metadata": {},
   "outputs": [],
   "source": [
    "pareto_ventas_revenue[\"%\"]=pareto_ventas_revenue[\"Revenue\"]/total_revenue\n",
    "pareto_ventas_revenue[\"ac\"]=pareto_ventas_revenue[\"%\"].cumsum()\n",
    "print(pareto_ventas_revenue)\n",
    "pareto_ventas_revenue.plot.bar(x=\"store_id\",y=\"%\")"
   ]
  },
  {
   "cell_type": "code",
   "execution_count": null,
   "metadata": {},
   "outputs": [],
   "source": [
    "estado_sales=pareto_ventas.groupby([\"state_id\"])[\"sales\"].sum().reset_index().sort_values(\"sales\",ascending=False)\n",
    "estado_sales[\"%\"]=estado_sales[\"sales\"]/total_cantidad\n",
    "estado_sales[\"ac\"]=estado_sales[\"%\"].cumsum()\n",
    "estado_revenue=pareto_ventas.groupby([\"state_id\"])[\"Revenue\"].sum().reset_index().sort_values(\"Revenue\",ascending=False)\n",
    "estado_revenue[\"%\"]=estado_revenue[\"Revenue\"]/total_revenue\n",
    "estado_revenue[\"ac\"]= estado_revenue[\"%\"].cumsum()\n",
    "\n",
    "print(estado_sales)\n",
    "estado_sales.plot.bar(x=\"state_id\", y= \"%\")\n",
    "print(estado_revenue)\n",
    "estado_revenue.plot.bar(x=\"state_id\", y= \"%\")"
   ]
  },
  {
   "cell_type": "markdown",
   "metadata": {},
   "source": [
    "Realiza un diagrama de Pareto de las ventas globales por categoría de productos, y de las ventas globales por departamento.\n",
    "Posteriormente, realiza el Pareto de las categorías y de los departamentos por estado (California, Texas, Wisconsin). ¿Varía mucho qué tipo de productos se venden por estado?"
   ]
  },
  {
   "cell_type": "code",
   "execution_count": null,
   "metadata": {},
   "outputs": [],
   "source": [
    "#print(precio_cantidad)\n",
    "#print(cat_art)\n",
    "pareto_gen= precio_cantidad[[\"num_item_id\",\"sales\",\"num_store\"]].merge(cat_art[[\"num_item_id\",\"dept_id\",\"cat_id\"]],on=\"num_item_id\")\n",
    "pareto_gen=pareto_gen.merge(cat_st[[\"num_store\",\"state_id\"]],on=\"num_store\")\n",
    "pareto_cat=pareto_gen.groupby([\"dept_id\"]).sum()\n",
    "print(pareto_gen)\n",
    "pareto_cat=pareto_gen.groupby([\"dept_id\"]).sum().reset_index().sort_values(\"sales\",ascending=False)\n",
    "pareto_cat[\"%\"]= pareto_cat[\"sales\"]/total_cantidad\n",
    "pareto_cat[\"ac\"]=pareto_cat[\"%\"].cumsum()\n",
    "#print(pareto_cat)\n",
    "pareto_dept=pareto_gen.groupby([\"cat_id\"]).sum().reset_index().sort_values(\"sales\",ascending=False)\n",
    "pareto_dept[\"%\"]= pareto_dept[\"sales\"]/total_cantidad\n",
    "pareto_dept[\"ac\"]=pareto_dept[\"%\"].cumsum()\n",
    "#print(pareto_dept)\n",
    "#dept=cat_art.groupby([\"dept_id\"]).count()\n",
    "                     \n",
    "#print(dept)\n",
    "fig,axs=plt.subplots(nrows=1,ncols=2)\n",
    "\n",
    "pareto_dept.plot.bar(x=\"cat_id\", y= \"%\",title=\"pareto dept\",ax=axs[0])\n",
    "pareto_cat.plot.bar(x=\"dept_id\", y= \"%\",title=\"pareto cat\",ax=axs[1])\n",
    "fig.suptitle(\"estadistica global\",fontsize=16)\n",
    "plt.show()\n",
    "\n"
   ]
  },
  {
   "cell_type": "code",
   "execution_count": null,
   "metadata": {},
   "outputs": [],
   "source": [
    "states=pareto_gen[\"state_id\"].unique()\n",
    "from matplotlib import rcParams\n",
    "rcParams[\"figure.figsize\"]=(16,8)\n",
    "for estado in states :\n",
    "    lista_estado=pareto_gen[pareto_gen[\"state_id\"]==estado]\n",
    "    pareto_state=lista_estado[[\"sales\",\"state_id\",\"num_item_id\",\"dept_id\"]].groupby([\"dept_id\",\"state_id\"]).sum().reset_index().sort_values(\"sales\",ascending=False)\n",
    "    pareto_state[\"%\"]=pareto_state[\"sales\"]/pareto_state[\"sales\"].sum()\n",
    "    pareto_state[\"ac\"]=pareto_state[\"%\"].cumsum()\n",
    "    pareto_state_cat=lista_estado[[\"sales\",\"state_id\",\"num_item_id\",\"cat_id\"]].groupby([\"cat_id\",\"state_id\"]).sum().reset_index().sort_values(\"sales\",ascending=False)\n",
    "    pareto_state_cat[\"%\"]=pareto_state_cat[\"sales\"]/pareto_state_cat[\"sales\"].sum()\n",
    "    pareto_state_cat[\"ac\"]=pareto_state_cat[\"%\"].cumsum()\n",
    "    print(pareto_state)\n",
    "    print(pareto_state_cat)\n",
    "    fig,axs=plt.subplots(nrows=1,ncols=2)\n",
    "\n",
    "    pareto_state.plot.bar(x=\"dept_id\", y= \"%\",title=\"pareto state\",ax=axs[0])\n",
    "    pareto_state_cat.plot.bar(x=\"cat_id\", y= \"%\",title=\"pareto state\",ax=axs[1])\n",
    "    fig.suptitle(\"estadistica\" + estado ,fontsize=16)\n",
    "    plt.show()"
   ]
  },
  {
   "cell_type": "markdown",
   "metadata": {},
   "source": [
    "Genera un histograma del dato de las ventas, al nivel en el que se encuentren originalmente los datos. ¿Qué tan grande es este valor? ¿Esto da evidencia de que las ventas, al nivel en el que se encuentra, son intermitentes o son estables?\n"
   ]
  },
  {
   "cell_type": "code",
   "execution_count": null,
   "metadata": {},
   "outputs": [],
   "source": [
    "print(precio_cantidad)\n",
    "hist=precio_cantidad.groupby([\"num_item_id\"]).sum()\n",
    "#hist[\"sales\"].plot.hist(log=True)\n",
    "print(hist)\n",
    "precio_cantidad[\"sales\"].plot.hist(log=True)\n",
    "\n",
    "print(precio_cantidad.groupby(\"sales\")[\"sell_price\"].count())"
   ]
  },
  {
   "cell_type": "markdown",
   "metadata": {},
   "source": [
    "es intermitente debido a que la mayoria de las observaciones de venta son 0 aun cuando hay datos de precio valido , se concluye que tenemos series de tiempo intermitente"
   ]
  },
  {
   "cell_type": "markdown",
   "metadata": {},
   "source": [
    "## Muestrea 3 productos de la categoría hobbies, 3 productos de la categoría Foods, y 3 productos de la categoría Household. Utilizando la venta nacional, revisa el comportamiento de estos con gráficas de series de tiempo. ¿Existe un comportamiento diferente por categoría? ¿Qué tan altas son las ventas de estos productos?"
   ]
  },
  {
   "cell_type": "code",
   "execution_count": null,
   "metadata": {},
   "outputs": [],
   "source": [
    "np.random.seed(10)\n",
    "print(np.random.normal(10,5,20))"
   ]
  },
  {
   "cell_type": "code",
   "execution_count": null,
   "metadata": {},
   "outputs": [],
   "source": [
    "productos_hobbies=cat_art[cat_art[\"cat_id\"]==\"HOBBIES\"].sample(3,random_state=532)[\"num_item_id\"]\n",
    "productos_households=cat_art[cat_art[\"cat_id\"]==\"HOUSEHOLD\"].sample(3,random_state=532)[\"num_item_id\"]\n",
    "productos_foods=cat_art[cat_art[\"cat_id\"]==\"FOODS\"].sample(3,random_state=532)[\"num_item_id\"]\n",
    "print(productos_hobbies)\n",
    "print(productos_households)\n",
    "print(productos_foods)"
   ]
  },
  {
   "cell_type": "code",
   "execution_count": null,
   "metadata": {},
   "outputs": [],
   "source": [
    "#print(precio_cantidad)\n",
    "serie_global=precio_cantidad.groupby([\"num_item_id\",\"d\"])[\"sales\"].sum().reset_index()\n",
    "serie_global=serie_global.merge(calendario[[\"d\",\"date\"]], on=\"d\")\n",
    "serie_hobbies=serie_global[serie_global[\"num_item_id\"].isin(productos_hobbies)]\n",
    "serie_hobbies[\"num_item_id\"]=serie_hobbies[\"num_item_id\"].astype(str)\n",
    "\n",
    "serie_hobbies[\"str_item_id\"]=[\"producto\"+str(id) for id in serie_hobbies[\"num_item_id\"]]\n",
    "\n",
    "sns.lineplot(x=\"date\",y=\"sales\",hue=\"str_item_id\",data=serie_hobbies)\n",
    "print(serie_hobbies)\n",
    "\n",
    "\n"
   ]
  },
  {
   "cell_type": "code",
   "execution_count": null,
   "metadata": {},
   "outputs": [],
   "source": [
    "serie_households=serie_global[serie_global[\"num_item_id\"].isin(productos_households)]\n",
    "serie_households[\"num_item_id\"]=serie_households[\"num_item_id\"].astype(str)\n",
    "\n",
    "serie_households[\"str_item_id\"]=[\"producto\"+str(id) for id in serie_households[\"num_item_id\"]]\n",
    "\n",
    "sns.lineplot(x=\"date\",y=\"sales\",hue=\"str_item_id\",data=serie_households)\n",
    "print(serie_households)\n",
    "\n"
   ]
  },
  {
   "cell_type": "code",
   "execution_count": null,
   "metadata": {},
   "outputs": [],
   "source": [
    "serie_foods=serie_global[serie_global[\"num_item_id\"].isin(productos_foods)]\n",
    "serie_foods[\"num_item_id\"]=serie_foods[\"num_item_id\"].astype(str)\n",
    "\n",
    "serie_foods[\"str_item_id\"]=[\"producto\"+str(id) for id in serie_foods[\"num_item_id\"]]\n",
    "\n",
    "sns.lineplot(x=\"date\",y=\"sales\",hue=\"str_item_id\",data=serie_foods)\n",
    "print(serie_foods)"
   ]
  },
  {
   "cell_type": "markdown",
   "metadata": {},
   "source": [
    "## Realiza un pareto por Producto a nivel nacional. ¿Cómo se comporta esta distribución?"
   ]
  },
  {
   "cell_type": "code",
   "execution_count": null,
   "metadata": {},
   "outputs": [],
   "source": [
    "#print(precio_cantidad)\n",
    "\n",
    "pareto_global= precio_cantidad.groupby([\"num_item_id\"])[\"sales\"].sum().reset_index().sort_values(\"sales\",ascending=False)\n",
    "pareto_global[\"%\"]=pareto_global[\"sales\"]/total_cantidad\n",
    "pareto_global[\"ac\"]=pareto_global[\"%\"].cumsum()\n",
    "pareto_global.reset_index()[\"ac\"].plot()\n",
    "print(pareto_global[\"ac\"])"
   ]
  },
  {
   "cell_type": "markdown",
   "metadata": {},
   "source": [
    "# Genera un diagrama de cajas, por departamento, de la variable de precio. ¿Existe una variación importante por departamento?"
   ]
  },
  {
   "cell_type": "raw",
   "metadata": {},
   "source": []
  },
  {
   "cell_type": "code",
   "execution_count": null,
   "metadata": {},
   "outputs": [],
   "source": [
    "#print(precio_venta)\n",
    "#print(cat_art)\n",
    "\n",
    "diagrama_dep= precio_venta[[\"item_id\",\"sell_price\"]].merge(cat_art[[\"item_id\",\"dept_id\"]],on=\"item_id\")\n",
    "#sns.boxplot(x=\"dept_id\",y=\"sell_price\",data=diagrama_dep)\n",
    "\n",
    "diagrama_prom= diagrama_dep.groupby([\"item_id\",\"dept_id\"]).mean().reset_index()\n",
    "print(diagrama_prom)\n",
    "print(diagrama_dep)\n",
    "sns.violinplot(x=\"dept_id\",y=\"sell_price\",data=diagrama_prom)"
   ]
  },
  {
   "cell_type": "markdown",
   "metadata": {},
   "source": [
    "\n",
    "# Para cada departamento, genera una gráfica de serie de tiempo (con frecuencia mensual) del precio promedio. ¿De casualidad el precio ha incrementado con respecto al tiempo?"
   ]
  },
  {
   "cell_type": "code",
   "execution_count": null,
   "metadata": {},
   "outputs": [],
   "source": [
    "#print(cat_art)\n",
    "#print(precio_venta)\n",
    "#print(calendario)\n",
    "\n",
    "info_ventas= calendario[[\"month\",\"year\",\"date\",\"wm_yr_wk\"]].merge(precio_venta[[\"item_id\",\"wm_yr_wk\",\"sell_price\"]],on=\"wm_yr_wk\")\n",
    "info_ventas= info_ventas.merge(cat_art[[\"item_id\",\"dept_id\"]],on=\"item_id\")\n",
    "\n",
    "\n",
    "info_ventas= info_ventas.groupby([\"year\",\"month\",\"dept_id\",\"item_id\"])[\"sell_price\"].mean().reset_index()\n",
    "info_ventas[\"time\"]= info_ventas[\"year\"]+(info_ventas[\"month\"]-1)/12\n",
    "info_ventas[\"str_time\"]=info_ventas[\"time\"].astype(str)\n",
    "from matplotlib import rcParams\n",
    "\n",
    "rcParams[\"figure.figsize\"]=(25,8)\n",
    "sns.boxplot(x=\"str_time\",y=\"sell_price\",data=info_ventas[info_ventas[\"dept_id\"]==\"FOODS_1\"])\n",
    "print(info_ventas)\n"
   ]
  },
  {
   "cell_type": "code",
   "execution_count": null,
   "metadata": {},
   "outputs": [],
   "source": [
    "dept_id= info_ventas[\"dept_id\"].unique()\n",
    "print(dept_id)\n",
    "rcParams[\"figure.figsize\"]=(25,8)\n",
    "for departamento in dept_id:\n",
    "    \n",
    "    sns.boxplot(x=\"str_time\",y=\"sell_price\",data=info_ventas[info_ventas[\"dept_id\"]== departamento]).set_title(\"precios \"+ departamento)\n",
    "    plt.show()"
   ]
  },
  {
   "cell_type": "code",
   "execution_count": null,
   "metadata": {},
   "outputs": [],
   "source": [
    "#info_foods1=info_ventas[info_ventas[\"dept_id\"]==\"FOODS_1\"]\n",
    "#info_foods1[\"time\"]= info_foods1[\"year\"]+(info_foods1[\"month\"]-1)/12\n",
    "#print(info_foods1)\n",
    "#info_foods1.plot(x=\"time\",y=\"sell_price\")"
   ]
  },
  {
   "cell_type": "markdown",
   "metadata": {},
   "source": [
    "# ¿Cuáles son los eventos que marca como importante la base de datos? ¿Hay alguna manera de revisar si tienen efecto importante en las ventas a nivel nacional?"
   ]
  },
  {
   "cell_type": "code",
   "execution_count": null,
   "metadata": {},
   "outputs": [],
   "source": [
    "print(calendario)"
   ]
  },
  {
   "cell_type": "code",
   "execution_count": null,
   "metadata": {},
   "outputs": [],
   "source": [
    "#print(calendario[\"event_name_1\"].unique())\n",
    "#print(calendario[\"event_name_2\"].unique())\n",
    "\n",
    "\n",
    "calendario_puente=calendario[(~calendario[\"event_name_1\"].isna())]\n",
    "calendario_puente=calendario_puente[[\"d\",\"event_name_1\",\"event_type_1\",\"event_name_2\",\"event_type_2\"]].merge(ventas_trans[[\"d\",\"sales\"]],on=\"d\")\n",
    "calendario_puente=calendario_puente.fillna(\"NA\")\n",
    "calendario_puente=calendario_puente.groupby([\"d\",\"event_name_1\",\"event_type_1\",\"event_name_2\",\"event_type_2\"]).sum().reset_index()\n",
    "print(calendario_puente)\n",
    "#print(ventas_trans)"
   ]
  },
  {
   "cell_type": "code",
   "execution_count": null,
   "metadata": {},
   "outputs": [],
   "source": [
    "event_name=[]\n",
    "event_type=[]\n",
    "sales=[]\n",
    "\n",
    "for index, row in calendario_puente.iterrows():\n",
    "    \n",
    "    event_name.append(row[\"event_name_1\"])\n",
    "    event_type.append(row[\"event_type_1\"])\n",
    "    sales.append(row[\"sales\"])\n",
    "    \n",
    "    if row[\"event_name_2\"]!=\"NA\":\n",
    "        event_name.append(row[\"event_name_1\"])\n",
    "        event_type.append(row[\"event_type_2\"])\n",
    "        sales.append(row[\"sales\"])\n",
    "        \n",
    "calendario_puente_final= pd.DataFrame({\"event_name\": event_name, \"event_type\": event_type,\"sales\":sales})   \n",
    "ventas_evento=calendario_puente_final.groupby([\"event_name\"]).mean().reset_index()\n",
    "\n",
    "ventas_type=calendario_puente_final.groupby([\"event_type\"]).mean().reset_index()\n",
    "\n",
    "#print(ventas_type)\n",
    "total_ventas=ventas_trans[\"sales\"].sum()\n",
    "\n",
    "promedio_dia=total_ventas/1913\n",
    "\n",
    "ventas_evento[\"effect\"]=ventas_evento[\"sales\"]/promedio_dia\n",
    "ventas_type[\"effect\"]=ventas_type[\"sales\"]/promedio_dia\n",
    "print(ventas_evento)\n",
    "print(ventas_type)\n",
    "\n"
   ]
  },
  {
   "cell_type": "code",
   "execution_count": null,
   "metadata": {},
   "outputs": [],
   "source": []
  },
  {
   "cell_type": "code",
   "execution_count": null,
   "metadata": {},
   "outputs": [],
   "source": []
  },
  {
   "cell_type": "code",
   "execution_count": null,
   "metadata": {},
   "outputs": [],
   "source": []
  },
  {
   "cell_type": "code",
   "execution_count": null,
   "metadata": {},
   "outputs": [],
   "source": []
  },
  {
   "cell_type": "code",
   "execution_count": null,
   "metadata": {},
   "outputs": [],
   "source": []
  },
  {
   "cell_type": "code",
   "execution_count": null,
   "metadata": {},
   "outputs": [],
   "source": []
  }
 ],
 "metadata": {
  "kernelspec": {
   "display_name": "Python 3",
   "language": "python",
   "name": "python3"
  },
  "language_info": {
   "codemirror_mode": {
    "name": "ipython",
    "version": 3
   },
   "file_extension": ".py",
   "mimetype": "text/x-python",
   "name": "python",
   "nbconvert_exporter": "python",
   "pygments_lexer": "ipython3",
   "version": "3.7.6"
  }
 },
 "nbformat": 4,
 "nbformat_minor": 4
}
